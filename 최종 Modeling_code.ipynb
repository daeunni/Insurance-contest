{
 "cells": [
  {
   "cell_type": "markdown",
   "metadata": {},
   "source": [
    "# Model Code Review"
   ]
  },
  {
   "cell_type": "markdown",
   "metadata": {},
   "source": [
    "### 1. 사용하고자 하는 패키지 Import"
   ]
  },
  {
   "cell_type": "code",
   "execution_count": 1,
   "metadata": {
    "colab": {},
    "colab_type": "code",
    "executionInfo": {
     "elapsed": 1154,
     "status": "ok",
     "timestamp": 1600272653898,
     "user": {
      "displayName": "문성민",
      "photoUrl": "",
      "userId": "10668171209465555042"
     },
     "user_tz": -540
    },
    "id": "Y2dXoVw0qqgs"
   },
   "outputs": [],
   "source": [
    "import pandas as pd\n",
    "import numpy as np\n",
    "pd.set_option('max_columns', 100)\n",
    "\n",
    "import warnings\n",
    "warnings.filterwarnings('ignore')"
   ]
  },
  {
   "cell_type": "markdown",
   "metadata": {
    "colab": {},
    "colab_type": "code",
    "executionInfo": {
     "elapsed": 798,
     "status": "ok",
     "timestamp": 1600272653900,
     "user": {
      "displayName": "문성민",
      "photoUrl": "",
      "userId": "10668171209465555042"
     },
     "user_tz": -540
    },
    "id": "l7avT_H7qqg2"
   },
   "source": [
    "### 2. Data Loading And Data Preprocessing \n",
    "\n",
    "* EDA 결과 11월 데이터만 사용하기로 결정\n",
    "* 추가적인 Feature 생성 및 데이터 전처리 작업 "
   ]
  },
  {
   "cell_type": "code",
   "execution_count": 2,
   "metadata": {
    "colab": {},
    "colab_type": "code",
    "executionInfo": {
     "elapsed": 2178,
     "status": "ok",
     "timestamp": 1600272658954,
     "user": {
      "displayName": "문성민",
      "photoUrl": "",
      "userId": "10668171209465555042"
     },
     "user_tz": -540
    },
    "id": "r6PT5-f2qqhE"
   },
   "outputs": [],
   "source": [
    "train = pd.read_csv('train.csv',encoding='cp949')\n",
    "test = pd.read_csv('test.csv',encoding='cp949')\n",
    "sub =  pd.read_csv('sample.csv',encoding='cp949')"
   ]
  },
  {
   "cell_type": "code",
   "execution_count": 3,
   "metadata": {
    "colab": {},
    "colab_type": "code",
    "executionInfo": {
     "elapsed": 1876,
     "status": "ok",
     "timestamp": 1600272658956,
     "user": {
      "displayName": "문성민",
      "photoUrl": "",
      "userId": "10668171209465555042"
     },
     "user_tz": -540
    },
    "id": "jgfN_b5BqqhP"
   },
   "outputs": [],
   "source": [
    "cols = ['base_ym','접수년월',\n",
    "'dsas_ltwt_gcd','질병경중등급코드',\n",
    "'kcd_gcd','KCD등급코드',\n",
    "'dsas_acd_rst_dcd','질병구분코드',\n",
    "'ar_rclss_cd','발생지역구분코드',\n",
    "'blrs_cd','치료행위코드',\n",
    "'mdct_inu_rclss_dcd','의료기관구분코드',\n",
    "'nur_hosp_yn','요양병원여부',\n",
    "'isrd_age_dcd','고객나이구분코드',\n",
    "'smrtg_5y_passed_yn','부담보5년경과여부',\n",
    "'urlb_fc_yn','부실모집설계사계약여부',\n",
    "'mtad_cntr_yn','중도부가계약여부',\n",
    "'heltp_pf_ntyn','건강인우대계약가입여부',\n",
    "'fds_cust_yn','보험사기이력고객여부',\n",
    "'prm_nvcd','보험료구간코드',\n",
    "'inamt_nvcd','가입금액구간코드',\n",
    "'optt_nbtm_s','통원횟수',\n",
    "'bilg_isamt_s','청구보험금',\n",
    "'hspz_dys_s','입원일수',\n",
    "'ac_ctr_diff','청구일계약일간기간구분코드',\n",
    "'ac_rst_diff','청구일부활일간기간구분코드',\n",
    "'hsp_avg_hspz_bilg_isamt_s','병원별평균입원청구보험금',\n",
    "'hsp_avg_optt_bilg_isamt_s','병원별평균통원청구보험금',\n",
    "'hsp_avg_surop_bilg_isamt_s','병원별평균수술청구보험금',\n",
    "'hsp_avg_diag_bilg_isamt_s','병원별평균진단청구보험금',\n",
    "'dsas_avg_hspz_bilg_isamt_s','질병별평균입원청구보험금',\n",
    "'dsas_avg_optt_bilg_isamt_s','질병별평균통원청구보험금',\n",
    "'dsas_avg_surop_bilg_isamt_s','질병별평균수술청구보험금',\n",
    "'dsas_avg_diag_bilg_isamt_s','질병별평균진단청구보험금',\n",
    "'hspz_blcnt_s','입원청구건수',\n",
    "'surop_blcnt_s','수술청구건수',\n",
    "'optt_blcnt_s','통원청구건수']"
   ]
  },
  {
   "cell_type": "code",
   "execution_count": 4,
   "metadata": {
    "colab": {},
    "colab_type": "code",
    "executionInfo": {
     "elapsed": 1557,
     "status": "ok",
     "timestamp": 1600272658957,
     "user": {
      "displayName": "문성민",
      "photoUrl": "",
      "userId": "10668171209465555042"
     },
     "user_tz": -540
    },
    "id": "vSx34pJuqqhZ"
   },
   "outputs": [],
   "source": [
    "b_cols = []\n",
    "a_cols = []\n",
    "for i in range(len(cols)) : \n",
    "    if i %2 == 1 : \n",
    "        b_cols.append(cols[i])\n",
    "    else : a_cols.append(cols[i])"
   ]
  },
  {
   "cell_type": "code",
   "execution_count": 5,
   "metadata": {
    "colab": {},
    "colab_type": "code",
    "executionInfo": {
     "elapsed": 657,
     "status": "ok",
     "timestamp": 1600272658960,
     "user": {
      "displayName": "문성민",
      "photoUrl": "",
      "userId": "10668171209465555042"
     },
     "user_tz": -540
    },
    "id": "IOj7q7qvqqh5",
    "scrolled": true
   },
   "outputs": [],
   "source": [
    "train = train[a_cols]\n",
    "train.columns = b_cols\n",
    "train = train.query(\"접수년월 == 201911\") \n",
    "\n",
    "test = test[a_cols]\n",
    "test.columns = b_cols\n",
    "\n",
    "data = pd.concat([train,test],axis=0)"
   ]
  },
  {
   "cell_type": "code",
   "execution_count": 6,
   "metadata": {},
   "outputs": [],
   "source": [
    "data['재가입여부'] = data['청구일부활일간기간구분코드'].map(lambda x: 0 if x == 0 else 1)\n",
    "data['총청구건수'] = data['입원청구건수'] + data['수술청구건수'] + data['통원청구건수']\n",
    "data['통원_입원일수'] = data['통원횟수'] + data['입원일수']"
   ]
  },
  {
   "cell_type": "code",
   "execution_count": 7,
   "metadata": {},
   "outputs": [],
   "source": [
    "def 입원(x) : \n",
    "    if x <= 7 : \n",
    "        return(0)\n",
    "    else : return(1)\n",
    "    \n",
    "def 통원(x) : \n",
    "    if (x <= 3 or 8 <= x <= 11) : \n",
    "        return(0)\n",
    "    else : return(1)\n",
    "    \n",
    "def 수술(x) : \n",
    "    if (x == 1 or 4 <= x <= 5 or 8 <= x <= 9 or 12 <= x <= 13) : \n",
    "        return(0)\n",
    "    else : return(1)\n",
    "    \n",
    "def 진단(x) : \n",
    "    if (x % 2 == 1) : \n",
    "        return(1)\n",
    "    else : return(0)\n",
    "\n",
    "data['행위_입원'] = data['치료행위코드'].apply(입원)\n",
    "data['행위_통원'] = data['치료행위코드'].apply(통원)\n",
    "data['행위_수술'] = data['치료행위코드'].apply(수술)\n",
    "data['행위_진단'] = data['치료행위코드'].apply(진단)\n",
    "\n",
    "data['병원대비청구보험금'] = abs(data['청구보험금'] - (data['병원별평균입원청구보험금'] * data['행위_입원'] + data['병원별평균통원청구보험금'] * data['행위_통원'] + data['병원별평균수술청구보험금'] * data['행위_수술'] + data['병원별평균진단청구보험금'] * data['행위_진단']))"
   ]
  },
  {
   "cell_type": "code",
   "execution_count": 8,
   "metadata": {},
   "outputs": [],
   "source": [
    "data['병원별_평균_청구액'] = (data[['행위_입원','행위_통원','행위_수술','행위_진단']].values * data[['병원별평균입원청구보험금','병원별평균통원청구보험금','병원별평균수술청구보험금','병원별평균진단청구보험금']].values).sum(axis=1)\n",
    "data['질병별_평균_청구액'] = (data[['행위_입원','행위_통원','행위_수술','행위_진단']].values * data[['질병별평균입원청구보험금','질병별평균통원청구보험금','질병별평균수술청구보험금','질병별평균진단청구보험금']].values).sum(axis=1)\n",
    "data['청구-질병평균청구'] = data['청구보험금'] - data['질병별_평균_청구액']"
   ]
  },
  {
   "cell_type": "code",
   "execution_count": 9,
   "metadata": {},
   "outputs": [],
   "source": [
    "features = []\n",
    "\n",
    "f = train.groupby(['가입금액구간코드'])['청구보험금'].agg([('m1','mean')]).reset_index()\n",
    "features.append(f)\n",
    "\n",
    "for f in features : \n",
    "    data = pd.merge(data,f,how='left',on=['가입금액구간코드'])\n",
    "\n",
    "data['diffs1'] = abs(data['m1'] - data['청구보험금'])"
   ]
  },
  {
   "cell_type": "markdown",
   "metadata": {},
   "source": [
    "---------------------------"
   ]
  },
  {
   "cell_type": "markdown",
   "metadata": {},
   "source": [
    "### 3. 모델 적합 및 예측"
   ]
  },
  {
   "cell_type": "code",
   "execution_count": 10,
   "metadata": {},
   "outputs": [],
   "source": [
    "# 학습에 용이하도록 데이터 변환 및 정제 작업 실시 \n",
    "X_train = data.iloc[:train.shape[0],:].drop(['접수년월','m1','건강인우대계약가입여부','요양병원여부','중도부가계약여부','행위_입원','행위_통원','행위_수술','행위_진단'],axis=1)\n",
    "y_train = pd.read_csv('train.csv',encoding='cp949').query(\"base_ym >= 201911\").target\n",
    "X_test = data.iloc[train.shape[0]:,:].drop(['접수년월','m1','건강인우대계약가입여부','요양병원여부','중도부가계약여부','행위_입원','행위_통원','행위_수술','행위_진단'],axis=1).fillna(0)"
   ]
  },
  {
   "cell_type": "code",
   "execution_count": 11,
   "metadata": {
    "scrolled": true
   },
   "outputs": [
    {
     "name": "stderr",
     "output_type": "stream",
     "text": [
      "[Parallel(n_jobs=5)]: Using backend ThreadingBackend with 5 concurrent workers.\n",
      "[Parallel(n_jobs=5)]: Done  40 tasks      | elapsed:    0.6s\n",
      "[Parallel(n_jobs=5)]: Done 190 tasks      | elapsed:    3.2s\n",
      "[Parallel(n_jobs=5)]: Done 440 tasks      | elapsed:    7.6s\n",
      "[Parallel(n_jobs=5)]: Done 450 out of 450 | elapsed:    7.8s finished\n",
      "[Parallel(n_jobs=5)]: Using backend ThreadingBackend with 5 concurrent workers.\n",
      "[Parallel(n_jobs=5)]: Done  40 tasks      | elapsed:    0.6s\n",
      "[Parallel(n_jobs=5)]: Done 190 tasks      | elapsed:    3.3s\n",
      "[Parallel(n_jobs=5)]: Done 440 tasks      | elapsed:    7.8s\n",
      "[Parallel(n_jobs=5)]: Done 450 out of 450 | elapsed:    8.0s finished\n",
      "[Parallel(n_jobs=5)]: Using backend ThreadingBackend with 5 concurrent workers.\n",
      "[Parallel(n_jobs=5)]: Done  40 tasks      | elapsed:    0.7s\n",
      "[Parallel(n_jobs=5)]: Done 190 tasks      | elapsed:    3.5s\n",
      "[Parallel(n_jobs=5)]: Done 440 tasks      | elapsed:    8.2s\n",
      "[Parallel(n_jobs=5)]: Done 450 out of 450 | elapsed:    8.4s finished\n"
     ]
    },
    {
     "data": {
      "text/plain": [
       "ExtraTreesClassifier(n_estimators=450, n_jobs=5, random_state=701, verbose=1)"
      ]
     },
     "execution_count": 11,
     "metadata": {},
     "output_type": "execute_result"
    }
   ],
   "source": [
    "# Extra Tree Model 선정 - EDA를 통해 트리기반의 모델을 바탕으로 규칙 탐색을 하기로 결정 \n",
    "# Extra Tree Model의 Random성으로 인해 모델 3개를 적합하고 앙상블을 통해 모델 예측의 안정성을 높이고자 함 \n",
    "from sklearn.ensemble import ExtraTreesClassifier\n",
    "\n",
    "ext1 = ExtraTreesClassifier(n_jobs = -1, n_estimators= 450,verbose=1, random_state = 5187)\n",
    "ext2 = ExtraTreesClassifier(n_jobs = -1, n_estimators= 450,verbose=1, random_state = 1217)\n",
    "ext3 = ExtraTreesClassifier(n_jobs = -1, n_estimators= 450,verbose=1, random_state = 701)\n",
    "\n",
    "ext1.fit(X_train,y_train)\n",
    "ext2.fit(X_train,y_train)\n",
    "ext3.fit(X_train,y_train)"
   ]
  },
  {
   "cell_type": "code",
   "execution_count": 12,
   "metadata": {
    "scrolled": true
   },
   "outputs": [
    {
     "name": "stderr",
     "output_type": "stream",
     "text": [
      "[Parallel(n_jobs=5)]: Using backend ThreadingBackend with 5 concurrent workers.\n",
      "[Parallel(n_jobs=5)]: Done  40 tasks      | elapsed:    0.0s\n",
      "[Parallel(n_jobs=5)]: Done 190 tasks      | elapsed:    0.4s\n",
      "[Parallel(n_jobs=5)]: Done 440 tasks      | elapsed:    1.0s\n",
      "[Parallel(n_jobs=5)]: Done 450 out of 450 | elapsed:    1.0s finished\n",
      "[Parallel(n_jobs=5)]: Using backend ThreadingBackend with 5 concurrent workers.\n",
      "[Parallel(n_jobs=5)]: Done  40 tasks      | elapsed:    0.0s\n",
      "[Parallel(n_jobs=5)]: Done 190 tasks      | elapsed:    0.4s\n",
      "[Parallel(n_jobs=5)]: Done 440 tasks      | elapsed:    0.9s\n",
      "[Parallel(n_jobs=5)]: Done 450 out of 450 | elapsed:    1.0s finished\n",
      "[Parallel(n_jobs=5)]: Using backend ThreadingBackend with 5 concurrent workers.\n",
      "[Parallel(n_jobs=5)]: Done  40 tasks      | elapsed:    0.0s\n",
      "[Parallel(n_jobs=5)]: Done 190 tasks      | elapsed:    0.4s\n",
      "[Parallel(n_jobs=5)]: Done 440 tasks      | elapsed:    0.9s\n",
      "[Parallel(n_jobs=5)]: Done 450 out of 450 | elapsed:    1.0s finished\n"
     ]
    }
   ],
   "source": [
    "y_pred1 = ext1.predict_proba(X_test)\n",
    "y_pred2 = ext2.predict_proba(X_test)\n",
    "y_pred3 = ext3.predict_proba(X_test)"
   ]
  },
  {
   "cell_type": "code",
   "execution_count": 13,
   "metadata": {},
   "outputs": [],
   "source": [
    "# 규칙 기반 탐색과 동시에 경험기반 탐색을 진행하도록 결정 \n",
    "## 과거 경험에 대하여 직전 달의 현재 들어온 값과 가장 유사한 값의 Target 값을 찾아내는 모델을 통해 규칙기반 탐색의 모델을 보완\n",
    "from sklearn.neighbors import KNeighborsClassifier\n",
    "knn = KNeighborsClassifier(n_neighbors=1,n_jobs=-1,weights='distance',metric='manhattan')\n",
    "\n",
    "knn.fit(X_train,y_train)\n",
    "knn_pred = knn.predict_proba(X_test)"
   ]
  },
  {
   "cell_type": "markdown",
   "metadata": {},
   "source": [
    "## 4. Submission File Making"
   ]
  },
  {
   "cell_type": "code",
   "execution_count": 14,
   "metadata": {},
   "outputs": [],
   "source": [
    "# EDA 결과 규칙 기반의 모델의 비중을 높게 두고 경험기반 탐색의 비중을 상대적으로 낮게 두어 앙상블을 진행함\n",
    "# 가중 평균의 가중치는 heuristic하게 진행함\n",
    "# 기하평균을 활용하여 극단값의 영향력을 낮추고자 함\n",
    "\n",
    "y_pred =  knn_pred  *0.15 + (y_pred1 * y_pred2 * y_pred3)**(1/3)*0.85\n",
    "y_pred_ = pd.DataFrame(y_pred)\n",
    "y_pred_1 = [np.argmax(line) for line in np.array(y_pred_)]\n",
    "\n",
    "sub['target'] = y_pred_1\n",
    "\n",
    "sub.to_csv('submission.csv',index=False)"
   ]
  }
 ],
 "metadata": {
  "colab": {
   "collapsed_sections": [],
   "name": "extra_tree_857245.ipynb",
   "provenance": []
  },
  "kernelspec": {
   "display_name": "Python 3",
   "language": "python",
   "name": "python3"
  },
  "language_info": {
   "codemirror_mode": {
    "name": "ipython",
    "version": 3
   },
   "file_extension": ".py",
   "mimetype": "text/x-python",
   "name": "python",
   "nbconvert_exporter": "python",
   "pygments_lexer": "ipython3",
   "version": "3.7.4"
  }
 },
 "nbformat": 4,
 "nbformat_minor": 1
}
